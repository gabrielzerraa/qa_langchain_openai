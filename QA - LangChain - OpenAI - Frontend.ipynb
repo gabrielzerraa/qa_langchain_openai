{
 "cells": [
  {
   "cell_type": "code",
   "execution_count": 1,
   "id": "030b61d1",
   "metadata": {},
   "outputs": [],
   "source": [
    "#pip install langchain\n",
    "#pip install langdetect\n",
    "#pip install gradio\n",
    "#pip install pypdf\n",
    "#pip install openai\n",
    "#pip install chromadb"
   ]
  },
  {
   "cell_type": "code",
   "execution_count": 2,
   "id": "7150f6dd",
   "metadata": {},
   "outputs": [],
   "source": [
    "# from Bibliotecas ou Pacotes . Módulo import Classe \n",
    "\n",
    "# Importando as classes que usaremos\n",
    "\n",
    "import os                                                                 # Biblioteca para manipular o SO\n",
    "from dotenv import load_dotenv, find_dotenv                               # Carregar arquivo .env\n",
    "from langchain.document_loaders import PyPDFLoader                        # Carregar o PDF\n",
    "from langchain.text_splitter import RecursiveCharacterTextSplitter        # Separar as palavras\n",
    "from langchain.vectorstores import Chroma                                 # Banco de Dados de Vetores\n",
    "from langchain.embeddings.openai import OpenAIEmbeddings                  # Embedding das palavras\n",
    "from langchain.chains import RetrievalQA                                  # Perguntas e Respostas\n",
    "from langchain.chat_models import ChatOpenAI                              # Modelo utilizado\n",
    "from langdetect import detect                                             # Detectar Idioma\n",
    "import gradio as gr                                                       # Criar o chatbot"
   ]
  },
  {
   "cell_type": "code",
   "execution_count": 3,
   "id": "ff224b5a",
   "metadata": {},
   "outputs": [
    {
     "data": {
      "text/plain": [
       "True"
      ]
     },
     "execution_count": 3,
     "metadata": {},
     "output_type": "execute_result"
    }
   ],
   "source": [
    "load_dotenv(find_dotenv(), override=True)"
   ]
  },
  {
   "cell_type": "code",
   "execution_count": 17,
   "id": "18fab9ae",
   "metadata": {},
   "outputs": [],
   "source": [
    "def carregar_documento(file_name):\n",
    "    \n",
    "    loader = PyPDFLoader(file_name)          \n",
    "    pages = loader.load()                     \n",
    "    text_splitter = RecursiveCharacterTextSplitter(                     \n",
    "    chunk_size = 1000,                                                 \n",
    "    chunk_overlap  = 0)                                                \n",
    "    chunks = text_splitter.split_documents(pages)                   \n",
    "    embeddings = OpenAIEmbeddings(model='text-embedding-ada-002') \n",
    "    vector_store = Chroma.from_documents(chunks, embeddings)\n",
    "    #global vector_store\n",
    "    print('ok')\n",
    "    return file_name\n",
    "\n",
    "def perguntas_e_respostas(query):\n",
    "    llm = ChatOpenAI(model='gpt-3.5-turbo', temperature=0.1)\n",
    "    retriever = vector_store.as_retriever(search_type='similarity', search_kwargs={'k': 5}) \n",
    "    chain = RetrievalQA.from_chain_type(llm=llm, chain_type=\"stuff\", retriever=retriever)   \n",
    "    resposta = chain.run(query)                                                             #\n",
    "    return resposta"
   ]
  },
  {
   "cell_type": "code",
   "execution_count": 1,
   "id": "7ff0156e",
   "metadata": {},
   "outputs": [
    {
     "ename": "NameError",
     "evalue": "name 'gr' is not defined",
     "output_type": "error",
     "traceback": [
      "\u001b[1;31m---------------------------------------------------------------------------\u001b[0m",
      "\u001b[1;31mNameError\u001b[0m                                 Traceback (most recent call last)",
      "Cell \u001b[1;32mIn[1], line 1\u001b[0m\n\u001b[1;32m----> 1\u001b[0m \u001b[38;5;28;01mwith\u001b[39;00m gr\u001b[38;5;241m.\u001b[39mBlocks() \u001b[38;5;28;01mas\u001b[39;00m demo:\n\u001b[0;32m      3\u001b[0m     \u001b[38;5;28;01mwith\u001b[39;00m gr\u001b[38;5;241m.\u001b[39mRow():\n\u001b[0;32m      4\u001b[0m         \n\u001b[0;32m      5\u001b[0m         \u001b[38;5;66;03m# https://www.gradio.app/docs/file\u001b[39;00m\n\u001b[0;32m      6\u001b[0m         input_file \u001b[38;5;241m=\u001b[39m gr\u001b[38;5;241m.\u001b[39mFile(label\u001b[38;5;241m=\u001b[39m\u001b[38;5;124m'\u001b[39m\u001b[38;5;124mSuporte apenas para PDF\u001b[39m\u001b[38;5;124m'\u001b[39m,  \u001b[38;5;66;03m# Nome do parâmetro\u001b[39;00m\n\u001b[0;32m      7\u001b[0m                              file_types\u001b[38;5;241m=\u001b[39m[\u001b[38;5;124m'\u001b[39m\u001b[38;5;124m.pdf\u001b[39m\u001b[38;5;124m'\u001b[39m],              \u001b[38;5;66;03m# Arquivos Suportados\u001b[39;00m\n\u001b[0;32m      8\u001b[0m                              interactive\u001b[38;5;241m=\u001b[39m\u001b[38;5;28;01mTrue\u001b[39;00m,                 \u001b[38;5;66;03m# Permitir que o usuário carregue um arquivo\u001b[39;00m\n\u001b[0;32m      9\u001b[0m                              scale\u001b[38;5;241m=\u001b[39m\u001b[38;5;241m2\u001b[39m)                          \u001b[38;5;66;03m# Escala em comparação com outro componente da linha\u001b[39;00m\n",
      "\u001b[1;31mNameError\u001b[0m: name 'gr' is not defined"
     ]
    }
   ],
   "source": [
    "with gr.Blocks() as demo:\n",
    "    \n",
    "    with gr.Row():\n",
    "        \n",
    "        # https://www.gradio.app/docs/file\n",
    "        input_file = gr.File(label='Suporte apenas para PDF',  # Nome do parâmetro\n",
    "                             file_types=['.pdf'],              # Arquivos Suportados\n",
    "                             interactive=True,                 # Permitir que o usuário carregue um arquivo\n",
    "                             scale=2)                          # Escala em comparação com outro componente da linha\n",
    "        \n",
    "        # https://www.gradio.app/docs/button\n",
    "        input_button = gr.Button(value='Upar documento',       # Texto que o botão exibirá\n",
    "                                 scale=1)                      # Escala em comparação com outro componente da linha\n",
    "        \n",
    "    with gr.Row():\n",
    "        \n",
    "        # https://www.gradio.app/docs/textbox\n",
    "        textbox_files = gr.Textbox(label='Arquivo upado',       # Texto que o botão exibirá\n",
    "                                   scale=1)                     # Escala em comparação com outro componente da linha\n",
    "        \n",
    "        # https://www.gradio.app/docs/button\n",
    "        #erase_button  = gr.Button(value='Limpar a base de dados',    # Texto que o botão exibirá\n",
    "                                  #scale=0)                           # Escala em comparação com outro componente da linha\n",
    "        \n",
    "    with gr.Column():\n",
    "        \n",
    "        # https://www.gradio.app/docs/chatbot\n",
    "        chatbot = gr.Chatbot(label='Chatbot',                  # Texto que o botão exibirá\n",
    "                             show_copy_button=True)            # Botão para copiar o texto\n",
    "        \n",
    "    with gr.Row():\n",
    "        \n",
    "        # https://www.gradio.app/docs/textbox\n",
    "        prompt = gr.Textbox(label='Prompt',                    # Texto que o botão exibirá\n",
    "                            scale = 1)                         # Escala em comparação com outro componente da linha\n",
    "        \n",
    "        # https://www.gradio.app/docs/button\n",
    "        submit_button = gr.Button(value='Enviar',             # Texto que o botão exibirá\n",
    "                                  scale = 0)                  # Escala em comparação com outro componente da linha\n",
    "        \n",
    "        # https://www.gradio.app/docs/clearbutton\n",
    "        clear_button = gr.ClearButton(components=[prompt, chatbot],     # Componentes que serão limpos\n",
    "                                      value='Apagar Histórico',         # Texto que o botão exibirá\n",
    "                                      scale = 0)                        # Escala em comparação com outro componente da linha\n",
    "\n",
    "        \n",
    "    input_button.click(carregar_documento,          # O botao vai usar a função carregar_documentos\n",
    "                        inputs=[input_file],         # O input será o arquivo upado\n",
    "                        outputs=[textbox_files])     # O output será no textobox_files\n",
    "        \n",
    "    submit_button.click(perguntas_e_respostas,      #\n",
    "                        inputs=[prompt],            # O imput será o que foi escrito no prompt\n",
    "                        outputs=[chatbot])          # A output será no chatbox\n",
    "        \n",
    "\n",
    "demo.launch()"
   ]
  },
  {
   "cell_type": "code",
   "execution_count": null,
   "id": "6258b831",
   "metadata": {},
   "outputs": [],
   "source": []
  },
  {
   "cell_type": "code",
   "execution_count": null,
   "id": "c140e35a",
   "metadata": {},
   "outputs": [],
   "source": []
  }
 ],
 "metadata": {
  "kernelspec": {
   "display_name": "Python 3 (ipykernel)",
   "language": "python",
   "name": "python3"
  },
  "language_info": {
   "codemirror_mode": {
    "name": "ipython",
    "version": 3
   },
   "file_extension": ".py",
   "mimetype": "text/x-python",
   "name": "python",
   "nbconvert_exporter": "python",
   "pygments_lexer": "ipython3",
   "version": "3.11.5"
  }
 },
 "nbformat": 4,
 "nbformat_minor": 5
}
