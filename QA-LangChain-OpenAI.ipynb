{
 "cells": [
  {
   "cell_type": "code",
   "execution_count": null,
   "id": "28584523",
   "metadata": {},
   "outputs": [],
   "source": [
    "# Utilizando o -q para apareccer menos informações\n",
    "#pip install langchain\n",
    "#pip install langdetect\n",
    "#pip install tiktoken\n",
    "#pip install gradio\n",
    "#pip install pypdf\n",
    "#pip install openai\n",
    "#pip install chromadb\n",
    "#pip install pypdf -q"
   ]
  },
  {
   "cell_type": "code",
   "execution_count": 4,
   "id": "0865f2c3",
   "metadata": {},
   "outputs": [],
   "source": [
    "# from Bibliotecas ou Pacotes . Módulo import Classe \n",
    "\n",
    "# Importando as classes que usaremos\n",
    "\n",
    "import os                                                                 # Biblioteca para manipular o SO\n",
    "from dotenv import load_dotenv, find_dotenv                               # Carregar arquivo .env\n",
    "from langchain.document_loaders import PyPDFLoader                        # Carregar o PDF\n",
    "from langchain.text_splitter import RecursiveCharacterTextSplitter        # Separar as palavras\n",
    "from langchain.vectorstores import Chroma                                 # Banco de Dados de Vetores\n",
    "from langchain.embeddings.openai import OpenAIEmbeddings                  # Embedding das palavras\n",
    "from langchain.chains import RetrievalQA                                  # Perguntas e Respostas\n",
    "from langchain.prompts import PromptTemplate\n",
    "from langchain.chat_models import ChatOpenAI                              # Modelo utilizado\n",
    "import gradio as gr                                                       # Criar o chatbot"
   ]
  },
  {
   "cell_type": "code",
   "execution_count": 5,
   "id": "01a88bf2",
   "metadata": {},
   "outputs": [
    {
     "data": {
      "text/plain": [
       "True"
      ]
     },
     "execution_count": 5,
     "metadata": {},
     "output_type": "execute_result"
    }
   ],
   "source": [
    "load_dotenv(find_dotenv(), override=True)"
   ]
  },
  {
   "cell_type": "markdown",
   "id": "38efde83",
   "metadata": {},
   "source": [
    "### Backend"
   ]
  },
  {
   "cell_type": "code",
   "execution_count": 6,
   "id": "68f10762",
   "metadata": {},
   "outputs": [],
   "source": [
    "class PerguntasRespostas():\n",
    "    \n",
    "    #def __init__(self, load=None, chunk_size=1000, chunk_overlap=0, arquivo=None, split=None, vector_store=None):\n",
    "    def __init__(self, arquivo=None, documento=None, text_splitter=None, all_qa=None):\n",
    "        self.arquivo = arquivo\n",
    "        self.documento = documento\n",
    "        self.text_splitter = text_splitter\n",
    "        self.chunk_size = 1000\n",
    "        self.chunk_overlap = 0\n",
    "        #self.all_split = all_split\n",
    "        #self.all_embedding = all_embedding\n",
    "        self.all_qa = all_qa\n",
    "        \n",
    "    def chunk(self, documento):\n",
    "        self.text_splitter = RecursiveCharacterTextSplitter(chunk_size=self.chunk_size, \n",
    "                                                            chunk_overlap=self.chunk_overlap)\n",
    "        split = self.text_splitter.split_documents(documento) \n",
    "        return split\n",
    "\n",
    "    def embeddings(self, split):\n",
    "        embeddings = OpenAIEmbeddings(model='text-embedding-ada-002')  \n",
    "        vector_store = Chroma.from_documents(split, embeddings)\n",
    "        return vector_store\n",
    "    \n",
    "    def qa(self, vector_store):\n",
    "        llm = ChatOpenAI(model='gpt-3.5-turbo', temperature=0.1)\n",
    "        retriever = vector_store.as_retriever(search_type='similarity', search_kwargs={'k': 3}) \n",
    "        chain = RetrievalQA.from_chain_type(llm=llm, chain_type=\"stuff\", retriever=retriever, \n",
    "                                            return_source_documents=True) \n",
    "        return chain\n",
    "            \n",
    "    def carregar(self, arquivo):\n",
    "        try:\n",
    "            try:\n",
    "                loader = PyPDFLoader(arquivo)\n",
    "                documento = loader.load()\n",
    "            except Exception as e:\n",
    "                print('Erro no Carregamento')\n",
    "                print(e)\n",
    "            \n",
    "            #Chunk\n",
    "            try:\n",
    "                self.all_split = self.chunk(documento)\n",
    "            except Exception as e:\n",
    "                print('Erro no split')\n",
    "                print(e)\n",
    "            \n",
    "            #Embeddings\n",
    "            try:\n",
    "                self.all_embedding = self.embeddings(self.all_split)\n",
    "            except Exception as e:\n",
    "                print('Erro no embedding')\n",
    "                print(e)\n",
    "            \n",
    "            #QA\n",
    "            try:\n",
    "                self.all_qa = self.qa(self.all_embedding)\n",
    "            except Exception as e:\n",
    "                print('Erro no qa')\n",
    "                print(e)\n",
    "                \n",
    "        except Exception as e:\n",
    "            print(e)\n",
    "            \n",
    "    def resposta(self, query):\n",
    "\n",
    "        if self.all_qa is not None:\n",
    "            result = self.all_qa(query)\n",
    "            result = result['result']\n",
    "        else:\n",
    "            result = 'Digite sua pergunta'\n",
    "       \n",
    "        return result"
   ]
  },
  {
   "cell_type": "code",
   "execution_count": 7,
   "id": "316f1c2d",
   "metadata": {},
   "outputs": [],
   "source": [
    "question = PerguntasRespostas()"
   ]
  },
  {
   "cell_type": "code",
   "execution_count": 8,
   "id": "ed11065d",
   "metadata": {},
   "outputs": [],
   "source": [
    "question.carregar('unicapagina.pdf')"
   ]
  },
  {
   "cell_type": "code",
   "execution_count": 10,
   "id": "359504d8",
   "metadata": {},
   "outputs": [
    {
     "data": {
      "text/plain": [
       "'Esse PDF é um discurso proferido por Winston Churchill em 4 de junho de 1940, na Câmara dos Comuns. O discurso é intitulado \"Lutaremos nas praias\" e aborda a situação da Segunda Guerra Mundial, especificamente a retirada das tropas britânicas e francesas de Dunkirk. O discurso fala sobre a estratégia militar, a resistência das tropas britânicas e francesas e a determinação em continuar lutando contra a Alemanha nazista.'"
      ]
     },
     "execution_count": 10,
     "metadata": {},
     "output_type": "execute_result"
    }
   ],
   "source": [
    "question.resposta('Do que trata esse pdf?')"
   ]
  },
  {
   "cell_type": "markdown",
   "id": "afa3fe7c",
   "metadata": {},
   "source": [
    "### Frontend"
   ]
  },
  {
   "cell_type": "code",
   "execution_count": null,
   "id": "314979cb",
   "metadata": {},
   "outputs": [],
   "source": []
  }
 ],
 "metadata": {
  "kernelspec": {
   "display_name": "Python 3 (ipykernel)",
   "language": "python",
   "name": "python3"
  },
  "language_info": {
   "codemirror_mode": {
    "name": "ipython",
    "version": 3
   },
   "file_extension": ".py",
   "mimetype": "text/x-python",
   "name": "python",
   "nbconvert_exporter": "python",
   "pygments_lexer": "ipython3",
   "version": "3.11.5"
  }
 },
 "nbformat": 4,
 "nbformat_minor": 5
}
