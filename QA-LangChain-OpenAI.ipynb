{
 "cells": [
  {
   "cell_type": "code",
   "execution_count": 1,
   "id": "28584523",
   "metadata": {},
   "outputs": [],
   "source": [
    "# Utilizando o -q para apareccer menos informações\n",
    "#pip install langchain\n",
    "#pip install langdetect\n",
    "#pip install tiktoken\n",
    "#pip install gradio\n",
    "#pip install pypdf\n",
    "#pip install openai\n",
    "#pip install chromadb\n",
    "#pip install pypdf -q"
   ]
  },
  {
   "cell_type": "code",
   "execution_count": 195,
   "id": "0865f2c3",
   "metadata": {},
   "outputs": [],
   "source": [
    "# from Bibliotecas ou Pacotes . Módulo import Classe \n",
    "\n",
    "# Importando as classes que usaremos\n",
    "\n",
    "import os                                                                 # Biblioteca para manipular o SO\n",
    "from dotenv import load_dotenv, find_dotenv                               # Carregar arquivo .env\n",
    "from langchain.document_loaders import PyPDFLoader                        # Carregar o PDF\n",
    "from langchain.text_splitter import RecursiveCharacterTextSplitter        # Separar as palavras\n",
    "from langchain.vectorstores import Chroma                                 # Banco de Dados de Vetores\n",
    "from langchain.embeddings.openai import OpenAIEmbeddings                  # Embedding das palavras\n",
    "from langchain.chains import RetrievalQA                                  # Perguntas e Respostas\n",
    "from langchain.prompts import PromptTemplate\n",
    "from langchain.chat_models import ChatOpenAI                              # Modelo utilizado\n",
    "import gradio as gr                                                       # Criar o chatbot\n",
    "import random\n",
    "from langchain.memory import ChatMessageHistory"
   ]
  },
  {
   "cell_type": "code",
   "execution_count": 118,
   "id": "01a88bf2",
   "metadata": {},
   "outputs": [
    {
     "data": {
      "text/plain": [
       "True"
      ]
     },
     "execution_count": 118,
     "metadata": {},
     "output_type": "execute_result"
    }
   ],
   "source": [
    "load_dotenv(find_dotenv(), override=True)"
   ]
  },
  {
   "cell_type": "code",
   "execution_count": 197,
   "id": "79534311",
   "metadata": {},
   "outputs": [
    {
     "data": {
      "text/plain": [
       "ChatMessageHistory(messages=[HumanMessage(content='hi!'), AIMessage(content='whats up?')])"
      ]
     },
     "execution_count": 197,
     "metadata": {},
     "output_type": "execute_result"
    }
   ],
   "source": [
    "history = ChatMessageHistory()\n",
    "\n",
    "history.add_user_message(\"hi!\")\n",
    "\n",
    "history.add_ai_message(\"whats up?\")\n",
    "\n",
    "history"
   ]
  },
  {
   "cell_type": "markdown",
   "id": "38efde83",
   "metadata": {},
   "source": [
    "### Backend"
   ]
  },
  {
   "cell_type": "code",
   "execution_count": 208,
   "id": "68f10762",
   "metadata": {},
   "outputs": [],
   "source": [
    "class PerguntasRespostas():\n",
    "    \n",
    "    def __init__(self, arquivo=None, documento=None, text_splitter=None, all_qa=None):\n",
    "        self.arquivo = arquivo\n",
    "        self.documento = documento\n",
    "        self.text_splitter = text_splitter\n",
    "        self.chunk_size = 1000\n",
    "        self.chunk_overlap = 0\n",
    "        #self.all_split = all_split\n",
    "        #self.all_embedding = all_embedding\n",
    "        self.all_qa = all_qa\n",
    "        \n",
    "    def chunk(self, documento):\n",
    "        self.text_splitter = RecursiveCharacterTextSplitter(chunk_size=self.chunk_size,chunk_overlap=self.chunk_overlap)\n",
    "        split = self.text_splitter.split_documents(documento) \n",
    "        return split\n",
    "\n",
    "    def embeddings(self, split):\n",
    "        embeddings = OpenAIEmbeddings(model='text-embedding-ada-002')  \n",
    "        vector_store = Chroma.from_documents(split, embeddings)\n",
    "        return vector_store\n",
    "    \n",
    "    def qa(self, vector_store):\n",
    "        llm = ChatOpenAI(model='gpt-3.5-turbo', temperature=0.1)\n",
    "        retriever = vector_store.as_retriever(search_type='similarity', search_kwargs={'k': 3}) \n",
    "        chain = RetrievalQA.from_chain_type(llm=llm, chain_type=\"stuff\", retriever=retriever,return_source_documents=True) \n",
    "        return chain\n",
    "            \n",
    "    def carregar(self, arquivo):\n",
    "        try:\n",
    "            try:\n",
    "                loader = PyPDFLoader(arquivo)\n",
    "                documento = loader.load()\n",
    "            except Exception as e:\n",
    "                print('Erro Carregamento')\n",
    "                print(e)\n",
    "            \n",
    "            #Chunk\n",
    "            try:\n",
    "                self.all_split = self.chunk(documento)\n",
    "            except Exception as e:\n",
    "                print('Erro split')\n",
    "                print(e)\n",
    "            \n",
    "            #Embeddings\n",
    "            try:\n",
    "                self.all_embedding = self.embeddings(self.all_split)\n",
    "            except Exception as e:\n",
    "                print('Erro embedding')\n",
    "                print(e)\n",
    "            \n",
    "            #QA\n",
    "            try:\n",
    "                self.all_qa = self.qa(self.all_embedding)\n",
    "            except Exception as e:\n",
    "                print('Erro qa')\n",
    "                print(e)\n",
    "\n",
    "            nome_do_arquivo = os.path.basename(arquivo)    \n",
    "            return nome_do_arquivo\n",
    "                \n",
    "        except Exception as e:\n",
    "            print(e)\n",
    "        \n",
    "    def resposta(self, query):\n",
    "        if self.all_qa is not None:\n",
    "            result = self.all_qa(query)\n",
    "            result = result['result']\n",
    "        else:\n",
    "            result = random.choice([\"Faca o upload de um pdf\", \"Por favor, coloque um arquivo\", \"Coloque um arquivo\"])\n",
    "            \n",
    "        return result"
   ]
  },
  {
   "cell_type": "code",
   "execution_count": 209,
   "id": "316f1c2d",
   "metadata": {},
   "outputs": [],
   "source": [
    "perguntasrespostas = PerguntasRespostas()"
   ]
  },
  {
   "cell_type": "code",
   "execution_count": 210,
   "id": "ed11065d",
   "metadata": {},
   "outputs": [
    {
     "data": {
      "text/plain": [
       "'unicapagina.pdf'"
      ]
     },
     "execution_count": 210,
     "metadata": {},
     "output_type": "execute_result"
    }
   ],
   "source": [
    "perguntasrespostas.carregar('unicapagina.pdf')"
   ]
  },
  {
   "cell_type": "code",
   "execution_count": 211,
   "id": "359504d8",
   "metadata": {},
   "outputs": [
    {
     "data": {
      "text/plain": [
       "'O PDF trata da defesa das cidades de Boulogne e Calais durante a Segunda Guerra Mundial. Descreve a resistência das tropas britânicas e francesas contra os ataques alemães, destacando a coragem e determinação dos soldados. Apesar dos esforços, as cidades acabaram sendo tomadas pelos alemães após intensos combates.'"
      ]
     },
     "execution_count": 211,
     "metadata": {},
     "output_type": "execute_result"
    }
   ],
   "source": [
    "perguntasrespostas.resposta('Resuma do que trata o pdf')"
   ]
  },
  {
   "cell_type": "code",
   "execution_count": null,
   "id": "b8a26a43",
   "metadata": {},
   "outputs": [],
   "source": []
  },
  {
   "cell_type": "code",
   "execution_count": null,
   "id": "3699620f",
   "metadata": {},
   "outputs": [],
   "source": []
  },
  {
   "cell_type": "markdown",
   "id": "afa3fe7c",
   "metadata": {},
   "source": [
    "### Frontend"
   ]
  },
  {
   "cell_type": "code",
   "execution_count": 213,
   "id": "314979cb",
   "metadata": {
    "scrolled": true
   },
   "outputs": [
    {
     "name": "stdout",
     "output_type": "stream",
     "text": [
      "Running on local URL:  http://127.0.0.1:7938\n",
      "\n",
      "To create a public link, set `share=True` in `launch()`.\n"
     ]
    },
    {
     "data": {
      "text/html": [
       "<div><iframe src=\"http://127.0.0.1:7938/\" width=\"100%\" height=\"500\" allow=\"autoplay; camera; microphone; clipboard-read; clipboard-write;\" frameborder=\"0\" allowfullscreen></iframe></div>"
      ],
      "text/plain": [
       "<IPython.core.display.HTML object>"
      ]
     },
     "metadata": {},
     "output_type": "display_data"
    },
    {
     "data": {
      "text/plain": []
     },
     "execution_count": 213,
     "metadata": {},
     "output_type": "execute_result"
    },
    {
     "name": "stderr",
     "output_type": "stream",
     "text": [
      "Traceback (most recent call last):\n",
      "  File \"C:\\Users\\gabriel.bezerra\\AppData\\Local\\anaconda3\\Lib\\site-packages\\gradio\\queueing.py\", line 455, in call_prediction\n",
      "    output = await route_utils.call_process_api(\n",
      "             ^^^^^^^^^^^^^^^^^^^^^^^^^^^^^^^^^^^\n",
      "  File \"C:\\Users\\gabriel.bezerra\\AppData\\Local\\anaconda3\\Lib\\site-packages\\gradio\\route_utils.py\", line 232, in call_process_api\n",
      "    output = await app.get_blocks().process_api(\n",
      "             ^^^^^^^^^^^^^^^^^^^^^^^^^^^^^^^^^^^\n",
      "  File \"C:\\Users\\gabriel.bezerra\\AppData\\Local\\anaconda3\\Lib\\site-packages\\gradio\\blocks.py\", line 1542, in process_api\n",
      "    data = self.postprocess_data(fn_index, result[\"prediction\"], state)\n",
      "           ^^^^^^^^^^^^^^^^^^^^^^^^^^^^^^^^^^^^^^^^^^^^^^^^^^^^^^^^^^^^\n",
      "  File \"C:\\Users\\gabriel.bezerra\\AppData\\Local\\anaconda3\\Lib\\site-packages\\gradio\\blocks.py\", line 1427, in postprocess_data\n",
      "    prediction_value = block.postprocess(prediction_value)\n",
      "                       ^^^^^^^^^^^^^^^^^^^^^^^^^^^^^^^^^^^\n",
      "  File \"C:\\Users\\gabriel.bezerra\\AppData\\Local\\anaconda3\\Lib\\site-packages\\gradio\\components\\chatbot.py\", line 204, in postprocess\n",
      "    raise TypeError(\n",
      "TypeError: Expected a list of lists or list of tuples. Received: H\n",
      "Traceback (most recent call last):\n",
      "  File \"C:\\Users\\gabriel.bezerra\\AppData\\Local\\anaconda3\\Lib\\site-packages\\gradio\\queueing.py\", line 455, in call_prediction\n",
      "    output = await route_utils.call_process_api(\n",
      "             ^^^^^^^^^^^^^^^^^^^^^^^^^^^^^^^^^^^\n",
      "  File \"C:\\Users\\gabriel.bezerra\\AppData\\Local\\anaconda3\\Lib\\site-packages\\gradio\\route_utils.py\", line 232, in call_process_api\n",
      "    output = await app.get_blocks().process_api(\n",
      "             ^^^^^^^^^^^^^^^^^^^^^^^^^^^^^^^^^^^\n",
      "  File \"C:\\Users\\gabriel.bezerra\\AppData\\Local\\anaconda3\\Lib\\site-packages\\gradio\\blocks.py\", line 1542, in process_api\n",
      "    data = self.postprocess_data(fn_index, result[\"prediction\"], state)\n",
      "           ^^^^^^^^^^^^^^^^^^^^^^^^^^^^^^^^^^^^^^^^^^^^^^^^^^^^^^^^^^^^\n",
      "  File \"C:\\Users\\gabriel.bezerra\\AppData\\Local\\anaconda3\\Lib\\site-packages\\gradio\\blocks.py\", line 1427, in postprocess_data\n",
      "    prediction_value = block.postprocess(prediction_value)\n",
      "                       ^^^^^^^^^^^^^^^^^^^^^^^^^^^^^^^^^^^\n",
      "  File \"C:\\Users\\gabriel.bezerra\\AppData\\Local\\anaconda3\\Lib\\site-packages\\gradio\\components\\chatbot.py\", line 204, in postprocess\n",
      "    raise TypeError(\n",
      "TypeError: Expected a list of lists or list of tuples. Received: H\n",
      "\n",
      "The above exception was the direct cause of the following exception:\n",
      "\n",
      "Traceback (most recent call last):\n",
      "  File \"C:\\Users\\gabriel.bezerra\\AppData\\Local\\anaconda3\\Lib\\site-packages\\gradio\\queueing.py\", line 493, in process_events\n",
      "    response = await self.call_prediction(awake_events, batch)\n",
      "               ^^^^^^^^^^^^^^^^^^^^^^^^^^^^^^^^^^^^^^^^^^^^^^^\n",
      "  File \"C:\\Users\\gabriel.bezerra\\AppData\\Local\\anaconda3\\Lib\\site-packages\\gradio\\queueing.py\", line 464, in call_prediction\n",
      "    raise Exception(str(error) if show_error else None) from error\n",
      "Exception: None\n"
     ]
    }
   ],
   "source": [
    "with gr.Blocks() as demo:\n",
    "    \n",
    "    with gr.Row():\n",
    "        input_file = gr.File(label='Suporte para PDF', file_types=['.pdf'], scale=2)\n",
    "        textbox_files = gr.Textbox(label='Arquivo Carregado', scale=2)\n",
    "        input_button = gr.Button(value='Carregar Documento')\n",
    "        \n",
    "    with gr.Column():\n",
    "        chatbot = gr.Chatbot(label='Chat')\n",
    "        \n",
    "    with gr.Row():\n",
    "        prompt_button = gr.Textbox(label='Mensagem', scale=10)\n",
    "        \n",
    "        with gr.Column():\n",
    "            submit_button = gr.Button(value='Enviar')\n",
    "            clear_button = gr.ClearButton(value='Apagar Historico', components=[prompt])\n",
    "        \n",
    "    input_button.click(perguntasrespostas.carregar,inputs=[input_file],outputs=[textbox_files])\n",
    "    submit_button.click(perguntasrespostas.resposta,inputs=[prompt_button], outputs=[chatbot])\n",
    "    prompt_button.submit(perguntasrespostas.resposta, inputs=[prompt_button], outputs=[chatbot])\n",
    "    \n",
    "    \n",
    "demo.launch()"
   ]
  },
  {
   "cell_type": "code",
   "execution_count": null,
   "id": "f9d58f1a",
   "metadata": {},
   "outputs": [],
   "source": []
  },
  {
   "cell_type": "code",
   "execution_count": null,
   "id": "359341c7",
   "metadata": {},
   "outputs": [],
   "source": []
  },
  {
   "cell_type": "code",
   "execution_count": null,
   "id": "6b92b334",
   "metadata": {},
   "outputs": [],
   "source": []
  }
 ],
 "metadata": {
  "kernelspec": {
   "display_name": "Python 3 (ipykernel)",
   "language": "python",
   "name": "python3"
  },
  "language_info": {
   "codemirror_mode": {
    "name": "ipython",
    "version": 3
   },
   "file_extension": ".py",
   "mimetype": "text/x-python",
   "name": "python",
   "nbconvert_exporter": "python",
   "pygments_lexer": "ipython3",
   "version": "3.11.4"
  }
 },
 "nbformat": 4,
 "nbformat_minor": 5
}
