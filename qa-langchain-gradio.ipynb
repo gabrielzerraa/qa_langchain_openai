{
 "cells": [
  {
   "cell_type": "code",
   "execution_count": 5,
   "id": "03cf4038",
   "metadata": {},
   "outputs": [],
   "source": [
    "import os                                                                \n",
    "from dotenv import load_dotenv, find_dotenv                               \n",
    "from langchain.document_loaders import PyPDFLoader, TextLoader, Docx2txtLoader\n",
    "from langchain.text_splitter import RecursiveCharacterTextSplitter        \n",
    "from langchain.vectorstores import Chroma                                 \n",
    "from langchain.embeddings.openai import OpenAIEmbeddings                  \n",
    "from langchain.chains import RetrievalQA                                 \n",
    "from langchain.chat_models import ChatOpenAI      \n",
    "from langchain.embeddings import SentenceTransformerEmbeddings\n",
    "from langchain.schema import SystemMessage, HumanMessage, AIMessage\n",
    "import gradio as gr      "
   ]
  },
  {
   "cell_type": "code",
   "execution_count": 6,
   "id": "d8f6a048",
   "metadata": {
    "scrolled": true
   },
   "outputs": [
    {
     "data": {
      "text/plain": [
       "True"
      ]
     },
     "execution_count": 6,
     "metadata": {},
     "output_type": "execute_result"
    }
   ],
   "source": [
    "load_dotenv(find_dotenv(), override=True)"
   ]
  },
  {
   "cell_type": "markdown",
   "id": "c7217157",
   "metadata": {},
   "source": [
    "### Tentativas"
   ]
  },
  {
   "cell_type": "code",
   "execution_count": 7,
   "id": "3220b780",
   "metadata": {},
   "outputs": [],
   "source": [
    "class PerguntasRespostas():\n",
    "    \n",
    "    def __init__(self, arquivo=None, documento=None, text_splitter=None, all_qa=None):\n",
    "        self.arquivo = arquivo\n",
    "        self.documento = documento\n",
    "        self.text_splitter = text_splitter\n",
    "        self.all_qa = all_qa\n",
    "        self.chunk_size = 1000\n",
    "        self.chunk_overlap = 0\n",
    "        self.chat_history = []\n",
    "        \n",
    "    def chunk(self, documento):\n",
    "        self.text_splitter = RecursiveCharacterTextSplitter(chunk_size=self.chunk_size,chunk_overlap=self.chunk_overlap)\n",
    "        split = self.text_splitter.split_documents(documento) \n",
    "        return split\n",
    "\n",
    "    def embeddings(self, split):\n",
    "        embeddings = SentenceTransformerEmbeddings(model_name='all-mpnet-base-v2')\n",
    "        vector_store = Chroma.from_documents(split, embeddings)\n",
    "        return vector_store\n",
    "    \n",
    "    def qa(self, vector_store):\n",
    "        llm = ChatOpenAI(model='gpt-3.5-turbo', temperature=0.1)\n",
    "        retriever = vector_store.as_retriever(search_type='similarity', search_kwargs={'k': 3}) \n",
    "        chain = RetrievalQA.from_chain_type(llm=llm, chain_type=\"stuff\", retriever=retriever,return_source_documents=True) \n",
    "        return chain\n",
    "            \n",
    "    def carregar(self, arquivo):\n",
    "        try:\n",
    "            \n",
    "            file_name = os.path.basename(arquivo)\n",
    "            base, extensao = os.path.splitext(file_name)\n",
    "            \n",
    "            try:\n",
    "                if extensao == '.pdf':\n",
    "                    loader = PyPDFLoader(arquivo)\n",
    "                elif extensao == '.txt':\n",
    "                    loader = TextLoader(arquivo)\n",
    "                elif extensao == '.docx':\n",
    "                    loader = Docx2txtLoader(arquivo)\n",
    "                else:\n",
    "                    print('Coloque um Arquivo') \n",
    "\n",
    "                documento = loader.load()\n",
    "        \n",
    "            except Exception as e:\n",
    "                print('Erro Carregamento')\n",
    "                print(e)\n",
    "            \n",
    "            #Chunk\n",
    "            try:\n",
    "                self.all_split = self.chunk(documento)\n",
    "            except Exception as e:\n",
    "                print('Erro split')\n",
    "                print(e)\n",
    "            \n",
    "            #Embeddings\n",
    "            try:\n",
    "                self.all_embedding = self.embeddings(self.all_split)\n",
    "            except Exception as e:\n",
    "                print('Erro embedding')\n",
    "                print(e)\n",
    "            \n",
    "            #QA\n",
    "            try:\n",
    "                self.all_qa = self.qa(self.all_embedding)\n",
    "            except Exception as e:\n",
    "                print('Erro qa')\n",
    "                print(e)\n",
    "\n",
    "            return base\n",
    "                \n",
    "        except Exception as e:\n",
    "            print(e)\n",
    "        \n",
    "    def resposta(self, query):\n",
    "        if self.all_qa is not None:\n",
    "            result = self.all_qa(query)\n",
    "            result = result['result']\n",
    "        else:\n",
    "            chat = ChatOpenAI(model='gpt-3.5-turbo', temperature=0.1)\n",
    "            prompt_system = '''\n",
    "            You are a chatbot.\n",
    "            Answer the question that was asked.\n",
    "            After responding, suggest that the user upload a PDF to the chatbot.\n",
    "            '''\n",
    "            result = chat([SystemMessage(content=prompt_system),HumanMessage(content=query)]).content\n",
    "            \n",
    "        self.chat_history.append((query, result))\n",
    "        return self.chat_history"
   ]
  },
  {
   "cell_type": "code",
   "execution_count": 10,
   "id": "b55e6a26",
   "metadata": {
    "scrolled": true
   },
   "outputs": [
    {
     "name": "stdout",
     "output_type": "stream",
     "text": [
      "Running on local URL:  http://127.0.0.1:7863\n",
      "\n",
      "To create a public link, set `share=True` in `launch()`.\n"
     ]
    },
    {
     "data": {
      "text/html": [
       "<div><iframe src=\"http://127.0.0.1:7863/\" width=\"100%\" height=\"500\" allow=\"autoplay; camera; microphone; clipboard-read; clipboard-write;\" frameborder=\"0\" allowfullscreen></iframe></div>"
      ],
      "text/plain": [
       "<IPython.core.display.HTML object>"
      ]
     },
     "metadata": {},
     "output_type": "display_data"
    },
    {
     "data": {
      "text/plain": []
     },
     "execution_count": 10,
     "metadata": {},
     "output_type": "execute_result"
    }
   ],
   "source": [
    "# Gradio\n",
    "\n",
    "perguntas = PerguntasRespostas()\n",
    "\n",
    "with gr.Blocks() as demo:\n",
    "    \n",
    "    with gr.Row():\n",
    "        inp_file = gr.File(label='Suporte apenas para PDF',file_types=['.pdf', '.txt', '.docx'], interactive=True, scale=2) \n",
    "        out_file = gr.Textbox(label='Arquivo upado', scale=2) \n",
    "        inp_button = gr.Button(value='Upar documento', scale=1)\n",
    "        \n",
    "    with gr.Column():\n",
    "        out = gr.Chatbot(show_label=False, \n",
    "                         show_copy_button=True, \n",
    "                         likeable=True,\n",
    "                         layout=\"panel\")\n",
    "        \n",
    "    with gr.Row(): \n",
    "        inp = gr.Textbox(label='Prompt') \n",
    "        inp.submit(perguntas.resposta,[inp],[out])\n",
    "        \n",
    "        with gr.Column(scale=1):\n",
    "            submit_button = gr.Button(value='Enviar')\n",
    "            clear_button = gr.ClearButton(components=[inp, out], value='Apagar Histórico')\n",
    "            \n",
    "    with gr.Row():\n",
    "        \n",
    "        gr.Slider(\n",
    "        label=\"Novos Tokens\",\n",
    "        value=1000,\n",
    "        minimum=0,\n",
    "        maximum=2000,\n",
    "        step=100,\n",
    "        interactive=True,\n",
    "        visible=True,\n",
    "        info=\"Número máximo de novos tokens\")\n",
    "        \n",
    "        gr.Slider(\n",
    "        label='Temperatura',\n",
    "        value=0.1,\n",
    "        minimum=0.0,\n",
    "        maximum=2.0,\n",
    "        step=0.1,\n",
    "        interactive=True,\n",
    "        visible=True,\n",
    "        info='Valores mais altos produzem resultados mais criativos'\n",
    "        )\n",
    "        \n",
    "        \n",
    "    inp_button.click(perguntas.carregar,inputs=[inp_file], outputs=[out_file])\n",
    "    submit_button.click(perguntas.resposta, inputs=[inp],outputs=[out])\n",
    "\n",
    "        \n",
    "demo.launch()"
   ]
  },
  {
   "cell_type": "code",
   "execution_count": null,
   "id": "2a8c489c",
   "metadata": {},
   "outputs": [],
   "source": []
  },
  {
   "cell_type": "code",
   "execution_count": null,
   "id": "c46b2e41",
   "metadata": {},
   "outputs": [],
   "source": []
  }
 ],
 "metadata": {
  "kernelspec": {
   "display_name": "Python 3 (ipykernel)",
   "language": "python",
   "name": "python3"
  },
  "language_info": {
   "codemirror_mode": {
    "name": "ipython",
    "version": 3
   },
   "file_extension": ".py",
   "mimetype": "text/x-python",
   "name": "python",
   "nbconvert_exporter": "python",
   "pygments_lexer": "ipython3",
   "version": "3.11.4"
  }
 },
 "nbformat": 4,
 "nbformat_minor": 5
}
